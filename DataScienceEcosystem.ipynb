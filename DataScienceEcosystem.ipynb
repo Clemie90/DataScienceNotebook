{
 "cells": [
  {
   "cell_type": "markdown",
   "id": "6906c138-fb6a-41bc-8e34-6512c7232c8c",
   "metadata": {},
   "source": [
    "# Data Science Tools and Ecosystem\n"
   ]
  },
  {
   "cell_type": "markdown",
   "id": "74104c26-9066-405c-83da-e916fc78839b",
   "metadata": {},
   "source": [
    "#In this notebook, Data Science Tools and Ecosystem are summarized.\n"
   ]
  },
  {
   "cell_type": "markdown",
   "id": "ccd96111-29c4-4606-b460-96b01c4b22d4",
   "metadata": {},
   "source": [
    "#Some of the popular languages that Data Scientists use are:\n",
    "\n",
    "1. Python\n",
    "2. R\n",
    "3. SQL\n"
   ]
  },
  {
   "cell_type": "markdown",
   "id": "74920f04-0e0b-405b-be9c-a60d6562a1f7",
   "metadata": {},
   "source": [
    "#Some of the commonly used libraries used by Data Scientists include:\n",
    "\n",
    "1. NumPy\n",
    "2. Pandas\n",
    "3. Matplotlib\n",
    "4. Scikit-learn\n"
   ]
  },
  {
   "cell_type": "markdown",
   "id": "22c5810c-2938-427e-8936-2ce69d65ef51",
   "metadata": {},
   "source": [
    "| Data Science Tools |\n",
    "|--------------------|\n",
    "| Jupyter Notebooks  |\n",
    "| RStudio            |\n",
    "| Apache Zeppelin    |\n"
   ]
  },
  {
   "cell_type": "markdown",
   "id": "39055369-1fe2-4094-8384-fc9d8bc20e3b",
   "metadata": {},
   "source": [
    "### Below are a few examples of evaluating arithmetic expressions in Python.\n"
   ]
  },
  {
   "cell_type": "code",
   "execution_count": 8,
   "id": "e6300749-525b-41f3-bfa1-9607e702dee3",
   "metadata": {},
   "outputs": [
    {
     "data": {
      "text/plain": [
       "17"
      ]
     },
     "execution_count": 8,
     "metadata": {},
     "output_type": "execute_result"
    }
   ],
   "source": [
    "# This is a simple arithmetic expression to multiply then add integers\n",
    "result = (3 * 4) + 5\n",
    "result\n"
   ]
  },
  {
   "cell_type": "code",
   "execution_count": 9,
   "id": "4d522c90-c710-4e26-a8f4-09b1f12ee794",
   "metadata": {},
   "outputs": [
    {
     "data": {
      "text/plain": [
       "3.3333333333333335"
      ]
     },
     "execution_count": 9,
     "metadata": {},
     "output_type": "execute_result"
    }
   ],
   "source": [
    "# This will convert 200 minutes to hours by dividing by 60\n",
    "minutes = 200\n",
    "hours = minutes / 60\n",
    "hours\n"
   ]
  },
  {
   "cell_type": "markdown",
   "id": "491a4bfc-445c-4baf-87c7-ef409905e46a",
   "metadata": {},
   "source": [
    "**Objectives:**\n",
    "\n",
    "- List popular languages for Data Science.\n",
    "- Describe common libraries used by Data Scientists.\n",
    "- Introduce Data Science tools and environments.\n",
    "- Demonstrate arithmetic expressions in Python.\n",
    "- Convert minutes to hours using Python code.\n"
   ]
  },
  {
   "cell_type": "markdown",
   "id": "3b14cb36-f88d-4b18-9ed3-67f612d15bd4",
   "metadata": {},
   "source": [
    "## Author\n",
    "Clemence K Matsika\n"
   ]
  },
  {
   "cell_type": "code",
   "execution_count": null,
   "id": "634727ea-8281-40c1-b2e3-c24e46ccf026",
   "metadata": {},
   "outputs": [],
   "source": []
  },
  {
   "cell_type": "code",
   "execution_count": null,
   "id": "cea180ca-ad7d-4a3e-a687-87983ae2e742",
   "metadata": {},
   "outputs": [],
   "source": []
  }
 ],
 "metadata": {
  "kernelspec": {
   "display_name": "Python 3 (ipykernel)",
   "language": "python",
   "name": "python3"
  },
  "language_info": {
   "codemirror_mode": {
    "name": "ipython",
    "version": 3
   },
   "file_extension": ".py",
   "mimetype": "text/x-python",
   "name": "python",
   "nbconvert_exporter": "python",
   "pygments_lexer": "ipython3",
   "version": "3.11.9"
  }
 },
 "nbformat": 4,
 "nbformat_minor": 5
}
